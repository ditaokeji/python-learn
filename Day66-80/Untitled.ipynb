{
 "cells": [
  {
   "cell_type": "code",
   "execution_count": 48,
   "id": "3460c5de-8f17-4ec7-9367-746f075c4aa1",
   "metadata": {},
   "outputs": [],
   "source": [
    "import numpy as np\n",
    "import pandas as pd\n",
    "import matplotlib.pyplot as plt"
   ]
  },
  {
   "cell_type": "code",
   "execution_count": 49,
   "id": "483e7ebf-d78f-44a7-a4b8-176095e6f3c8",
   "metadata": {},
   "outputs": [],
   "source": [
    "array1 = np.array([1,2,3,4,5])"
   ]
  },
  {
   "cell_type": "code",
   "execution_count": 50,
   "id": "ebef5714",
   "metadata": {},
   "outputs": [],
   "source": [
    "array2 = np.arange(0, 20, 2)"
   ]
  },
  {
   "cell_type": "code",
   "execution_count": 51,
   "id": "e55184c5",
   "metadata": {},
   "outputs": [],
   "source": [
    "array3 = np.linspace(-5,5,101)"
   ]
  },
  {
   "cell_type": "code",
   "execution_count": 52,
   "id": "c4fd1051",
   "metadata": {},
   "outputs": [],
   "source": [
    "array4 = np.random.rand(10)"
   ]
  },
  {
   "cell_type": "code",
   "execution_count": 53,
   "id": "bf06b2da",
   "metadata": {},
   "outputs": [
    {
     "name": "stdout",
     "output_type": "stream",
     "text": [
      "[68 60 63  4 28 24 91 78 59 26 39 88  5 59 24 91 35 74 67 35 37 21  3 86\n",
      " 92 17 52 39 83 93 76 93  6 54 19 36 27 14  3 75 30  8 72 85  5 59 98 66\n",
      " 62 94 72 41 88 69 79 42 87  3 62 70 31 64 72 68 10 98 28 73 70 52  5 14\n",
      "  5 98 84 42 20 69 42 37 96 73 16 18 76 93 12 24 80 27 60 20 58 41 73 68\n",
      " 10 76 52 31]\n"
     ]
    }
   ],
   "source": [
    "array5 = np.random.randint(1,100,100)\n",
    "print(array5)"
   ]
  },
  {
   "cell_type": "code",
   "execution_count": 54,
   "id": "35f98add",
   "metadata": {},
   "outputs": [],
   "source": [
    "array6 = np.random.normal(50, 10, 20)"
   ]
  },
  {
   "cell_type": "code",
   "execution_count": 55,
   "id": "29053b48",
   "metadata": {},
   "outputs": [],
   "source": [
    "arrya7 = np.array([[1,2,3],[4,5,6]])"
   ]
  },
  {
   "cell_type": "code",
   "execution_count": 56,
   "id": "7cf661fe",
   "metadata": {},
   "outputs": [],
   "source": [
    "array8 = np.zeros((3,4))"
   ]
  },
  {
   "cell_type": "code",
   "execution_count": 57,
   "id": "8fa72574",
   "metadata": {},
   "outputs": [],
   "source": [
    "array9 = np.ones((3,4))"
   ]
  },
  {
   "cell_type": "code",
   "execution_count": 58,
   "id": "2caf96e7",
   "metadata": {},
   "outputs": [],
   "source": [
    "array10 = np.full((3,4),20)"
   ]
  },
  {
   "cell_type": "code",
   "execution_count": 59,
   "id": "bef75d26",
   "metadata": {},
   "outputs": [],
   "source": [
    "arrya11 = np.eye(4)"
   ]
  },
  {
   "cell_type": "code",
   "execution_count": 60,
   "id": "e1e2a253",
   "metadata": {},
   "outputs": [],
   "source": [
    "array12 = np.array([1,2,3,4,5,6]).reshape(2,3)"
   ]
  },
  {
   "cell_type": "code",
   "execution_count": 61,
   "id": "361f917a",
   "metadata": {},
   "outputs": [],
   "source": [
    "array13 = np.random.rand(3,4)"
   ]
  },
  {
   "cell_type": "code",
   "execution_count": 62,
   "id": "be7a32a1",
   "metadata": {},
   "outputs": [],
   "source": [
    "array14 = np.random.randint(1, 100, (3, 4))"
   ]
  },
  {
   "cell_type": "code",
   "execution_count": 63,
   "id": "5f05b4fa",
   "metadata": {},
   "outputs": [],
   "source": [
    "array15 = np.random.randint(1, 100, (3, 4, 5))"
   ]
  },
  {
   "cell_type": "code",
   "execution_count": 64,
   "id": "9315d10a",
   "metadata": {},
   "outputs": [],
   "source": [
    "array16 = np.arange(1, 25).reshape((2, 3, 4))"
   ]
  },
  {
   "cell_type": "code",
   "execution_count": 65,
   "id": "10f0cb70",
   "metadata": {},
   "outputs": [],
   "source": [
    "array17 = np.random.randint(1, 100, (4, 6)).reshape((4, 3, 2))"
   ]
  },
  {
   "cell_type": "code",
   "execution_count": 66,
   "id": "8723c4c1",
   "metadata": {},
   "outputs": [
    {
     "ename": "FileNotFoundError",
     "evalue": "[Errno 2] No such file or directory: 'guido.jpg'",
     "output_type": "error",
     "traceback": [
      "\u001b[1;31m---------------------------------------------------------------------------\u001b[0m",
      "\u001b[1;31mFileNotFoundError\u001b[0m                         Traceback (most recent call last)",
      "Cell \u001b[1;32mIn[66], line 1\u001b[0m\n\u001b[1;32m----> 1\u001b[0m array18 \u001b[39m=\u001b[39m plt\u001b[39m.\u001b[39;49mimread(\u001b[39m'\u001b[39;49m\u001b[39mguido.jpg\u001b[39;49m\u001b[39m'\u001b[39;49m)\n",
      "File \u001b[1;32mc:\\Users\\Administrator\\AppData\\Local\\Programs\\Python\\Python312\\Lib\\site-packages\\matplotlib\\pyplot.py:2389\u001b[0m, in \u001b[0;36mimread\u001b[1;34m(fname, format)\u001b[0m\n\u001b[0;32m   2385\u001b[0m \u001b[39m@_copy_docstring_and_deprecators\u001b[39m(matplotlib\u001b[39m.\u001b[39mimage\u001b[39m.\u001b[39mimread)\n\u001b[0;32m   2386\u001b[0m \u001b[39mdef\u001b[39;00m \u001b[39mimread\u001b[39m(\n\u001b[0;32m   2387\u001b[0m         fname: \u001b[39mstr\u001b[39m \u001b[39m|\u001b[39m pathlib\u001b[39m.\u001b[39mPath \u001b[39m|\u001b[39m BinaryIO, \u001b[39mformat\u001b[39m: \u001b[39mstr\u001b[39m \u001b[39m|\u001b[39m \u001b[39mNone\u001b[39;00m \u001b[39m=\u001b[39m \u001b[39mNone\u001b[39;00m\n\u001b[0;32m   2388\u001b[0m ) \u001b[39m-\u001b[39m\u001b[39m>\u001b[39m np\u001b[39m.\u001b[39mndarray:\n\u001b[1;32m-> 2389\u001b[0m     \u001b[39mreturn\u001b[39;00m matplotlib\u001b[39m.\u001b[39;49mimage\u001b[39m.\u001b[39;49mimread(fname, \u001b[39mformat\u001b[39;49m)\n",
      "File \u001b[1;32mc:\\Users\\Administrator\\AppData\\Local\\Programs\\Python\\Python312\\Lib\\site-packages\\matplotlib\\image.py:1525\u001b[0m, in \u001b[0;36mimread\u001b[1;34m(fname, format)\u001b[0m\n\u001b[0;32m   1518\u001b[0m \u001b[39mif\u001b[39;00m \u001b[39misinstance\u001b[39m(fname, \u001b[39mstr\u001b[39m) \u001b[39mand\u001b[39;00m \u001b[39mlen\u001b[39m(parse\u001b[39m.\u001b[39murlparse(fname)\u001b[39m.\u001b[39mscheme) \u001b[39m>\u001b[39m \u001b[39m1\u001b[39m:\n\u001b[0;32m   1519\u001b[0m     \u001b[39m# Pillow doesn't handle URLs directly.\u001b[39;00m\n\u001b[0;32m   1520\u001b[0m     \u001b[39mraise\u001b[39;00m \u001b[39mValueError\u001b[39;00m(\n\u001b[0;32m   1521\u001b[0m         \u001b[39m\"\u001b[39m\u001b[39mPlease open the URL for reading and pass the \u001b[39m\u001b[39m\"\u001b[39m\n\u001b[0;32m   1522\u001b[0m         \u001b[39m\"\u001b[39m\u001b[39mresult to Pillow, e.g. with \u001b[39m\u001b[39m\"\u001b[39m\n\u001b[0;32m   1523\u001b[0m         \u001b[39m\"\u001b[39m\u001b[39m``np.array(PIL.Image.open(urllib.request.urlopen(url)))``.\u001b[39m\u001b[39m\"\u001b[39m\n\u001b[0;32m   1524\u001b[0m         )\n\u001b[1;32m-> 1525\u001b[0m \u001b[39mwith\u001b[39;00m img_open(fname) \u001b[39mas\u001b[39;00m image:\n\u001b[0;32m   1526\u001b[0m     \u001b[39mreturn\u001b[39;00m (_pil_png_to_float_array(image)\n\u001b[0;32m   1527\u001b[0m             \u001b[39mif\u001b[39;00m \u001b[39misinstance\u001b[39m(image, PIL\u001b[39m.\u001b[39mPngImagePlugin\u001b[39m.\u001b[39mPngImageFile) \u001b[39melse\u001b[39;00m\n\u001b[0;32m   1528\u001b[0m             pil_to_array(image))\n",
      "File \u001b[1;32mc:\\Users\\Administrator\\AppData\\Local\\Programs\\Python\\Python312\\Lib\\site-packages\\PIL\\Image.py:3243\u001b[0m, in \u001b[0;36mopen\u001b[1;34m(fp, mode, formats)\u001b[0m\n\u001b[0;32m   3240\u001b[0m     filename \u001b[39m=\u001b[39m fp\n\u001b[0;32m   3242\u001b[0m \u001b[39mif\u001b[39;00m filename:\n\u001b[1;32m-> 3243\u001b[0m     fp \u001b[39m=\u001b[39m builtins\u001b[39m.\u001b[39;49mopen(filename, \u001b[39m\"\u001b[39;49m\u001b[39mrb\u001b[39;49m\u001b[39m\"\u001b[39;49m)\n\u001b[0;32m   3244\u001b[0m     exclusive_fp \u001b[39m=\u001b[39m \u001b[39mTrue\u001b[39;00m\n\u001b[0;32m   3246\u001b[0m \u001b[39mtry\u001b[39;00m:\n",
      "\u001b[1;31mFileNotFoundError\u001b[0m: [Errno 2] No such file or directory: 'guido.jpg'"
     ]
    }
   ],
   "source": [
    "array18 = plt.imread('guido.jpg')"
   ]
  },
  {
   "cell_type": "code",
   "execution_count": null,
   "id": "6a64f009",
   "metadata": {},
   "outputs": [
    {
     "name": "stdout",
     "output_type": "stream",
     "text": [
      "50 12\n"
     ]
    }
   ],
   "source": [
    "array19 = np.arange(1, 100, 2)\n",
    "array20 = np.random.rand(3, 4)\n",
    "print(array19.size, array20.size)"
   ]
  },
  {
   "cell_type": "code",
   "execution_count": null,
   "id": "69ea8771",
   "metadata": {},
   "outputs": [
    {
     "name": "stdout",
     "output_type": "stream",
     "text": [
      "(50,) (3, 4)\n"
     ]
    }
   ],
   "source": [
    "print(array19.shape, array20.shape)"
   ]
  },
  {
   "cell_type": "code",
   "execution_count": null,
   "id": "5725a694",
   "metadata": {},
   "outputs": [
    {
     "name": "stdout",
     "output_type": "stream",
     "text": [
      "int32 float64\n"
     ]
    }
   ],
   "source": [
    "print(array19.dtype, array20.dtype)"
   ]
  },
  {
   "cell_type": "code",
   "execution_count": null,
   "id": "639fd3e2",
   "metadata": {},
   "outputs": [
    {
     "name": "stdout",
     "output_type": "stream",
     "text": [
      "1 2\n"
     ]
    }
   ],
   "source": [
    "print(array19.ndim, array20.ndim)"
   ]
  },
  {
   "cell_type": "code",
   "execution_count": null,
   "id": "9f2fbc63",
   "metadata": {},
   "outputs": [
    {
     "name": "stdout",
     "output_type": "stream",
     "text": [
      "4 8 1\n"
     ]
    }
   ],
   "source": [
    "array21 = np.arange(1, 100, 2, dtype=np.int8)\n",
    "print(array19.itemsize, array20.itemsize, array21.itemsize)"
   ]
  },
  {
   "cell_type": "code",
   "execution_count": null,
   "id": "4c6e721e",
   "metadata": {},
   "outputs": [],
   "source": [
    "array23 = np.array([1, 2, 3, 4, 5, 6, 7, 8, 9])\n",
    "print(array23[0], array23[array23.size - 1])\n",
    "print(array23[-array23.size], array23[-1])"
   ]
  },
  {
   "cell_type": "code",
   "execution_count": 47,
   "id": "0bd525dd",
   "metadata": {},
   "outputs": [
    {
     "name": "stdout",
     "output_type": "stream",
     "text": [
      "[7 8 9]\n",
      "1 9\n",
      "5 5\n"
     ]
    }
   ],
   "source": [
    "array24 = np.array([[1, 2, 3], [4, 5, 6], [7, 8, 9]])\n",
    "print(array24[2])\n",
    "print(array24[0][0], array24[-1][-1])\n",
    "print(array24[1][1], array24[1, 1])"
   ]
  }
 ],
 "metadata": {
  "kernelspec": {
   "display_name": "Python 3 (ipykernel)",
   "language": "python",
   "name": "python3"
  },
  "language_info": {
   "codemirror_mode": {
    "name": "ipython",
    "version": 3
   },
   "file_extension": ".py",
   "mimetype": "text/x-python",
   "name": "python",
   "nbconvert_exporter": "python",
   "pygments_lexer": "ipython3",
   "version": "3.12.0b3"
  }
 },
 "nbformat": 4,
 "nbformat_minor": 5
}
